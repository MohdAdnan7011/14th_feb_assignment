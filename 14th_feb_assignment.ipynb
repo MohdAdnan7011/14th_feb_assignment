{
 "cells": [
  {
   "cell_type": "code",
   "execution_count": 1,
   "id": "c9c7243f",
   "metadata": {},
   "outputs": [
    {
     "data": {
      "text/plain": [
       "\"'Multithreading in Python is a technique where multiple threads\\nrun concurrently within a single process. Threads are smaller\\nunits of a process that can run in parallel, sharing the same memory space.\\n\\nMultithreading is used to achieve concurrent execution of tasks, which can improve the performance of applications\\nThe module used to handle threads in Python is threading.\""
      ]
     },
     "execution_count": 1,
     "metadata": {},
     "output_type": "execute_result"
    }
   ],
   "source": [
    "# Question No 1\n",
    "''''Multithreading in Python is a technique where multiple threads\n",
    "run concurrently within a single process. Threads are smaller\n",
    "units of a process that can run in parallel, sharing the same memory space.\n",
    "\n",
    "Multithreading is used to achieve concurrent execution of tasks, which can improve the performance of applications\n",
    "The module used to handle threads in Python is threading.'''"
   ]
  },
  {
   "cell_type": "code",
   "execution_count": 2,
   "id": "ce0f7fb1",
   "metadata": {},
   "outputs": [
    {
     "data": {
      "text/plain": [
       "'The threading module is used in Python to create and manage threads.\\nIt allows you to run multiple threads concurrently, which can be useful\\nfor I/O-bound tasks, improving the performance and responsiveness of applications\\nactiveCount: Returns the number of active threads.\\ncurrentThread: Returns the current thread object.\\nenumerate: Returns a list of all active thread objects.'"
      ]
     },
     "execution_count": 2,
     "metadata": {},
     "output_type": "execute_result"
    }
   ],
   "source": [
    "# Question No 2\n",
    "'''The threading module is used in Python to create and manage threads.\n",
    "It allows you to run multiple threads concurrently, which can be useful\n",
    "for I/O-bound tasks, improving the performance and responsiveness of applications\n",
    "activeCount: Returns the number of active threads.\n",
    "currentThread: Returns the current thread object.\n",
    "enumerate: Returns a list of all active thread objects.'''"
   ]
  },
  {
   "cell_type": "code",
   "execution_count": 3,
   "id": "6c63aeed",
   "metadata": {},
   "outputs": [
    {
     "data": {
      "text/plain": [
       "\"run: Defines the thread's activity; usually overridden in a subclass.\\nstart: Begins the thread's activity by calling run.\\njoin: Waits for the thread to finish execution.\\nisAlive: Checks if the thread is still running.\""
      ]
     },
     "execution_count": 3,
     "metadata": {},
     "output_type": "execute_result"
    }
   ],
   "source": [
    "# Question No 3\n",
    "'''run: Defines the thread's activity; usually overridden in a subclass.\n",
    "start: Begins the thread's activity by calling run.\n",
    "join: Waits for the thread to finish execution.\n",
    "isAlive: Checks if the thread is still running.'''"
   ]
  },
  {
   "cell_type": "code",
   "execution_count": 5,
   "id": "0c97541e",
   "metadata": {},
   "outputs": [
    {
     "data": {
      "text/plain": [
       "'import threading\\n\\ndef print_squares(numbers):\\n    squares = [n**2 for n in numbers]\\n    print(f\"Squares: {squares}\")\\n\\ndef print_cubes(numbers):\\n    cubes = [n**3 for n in numbers]\\n    print(f\"Cubes: {cubes}\")\\n\\n# List of numbers to use\\nnumbers = [1, 2, 3, 4, 5]\\n\\n# Creating threads\\nthread1 = threading.Thread(target=print_squares, args=(numbers,))\\nthread2 = threading.Thread(target=print_cubes, args=(numbers,))\\n\\n# Starting threads\\nthread1.start()\\nthread2.start()\\n\\n# Waiting for threads to complete\\nthread1.join()\\nthread2.join()\\n\\nprint(\"Both threads have finished execution.\")'"
      ]
     },
     "execution_count": 5,
     "metadata": {},
     "output_type": "execute_result"
    }
   ],
   "source": [
    "# Question No 4\n",
    "'''import threading\n",
    "\n",
    "def print_squares(numbers):\n",
    "    squares = [n**2 for n in numbers]\n",
    "    print(f\"Squares: {squares}\")\n",
    "\n",
    "def print_cubes(numbers):\n",
    "    cubes = [n**3 for n in numbers]\n",
    "    print(f\"Cubes: {cubes}\")\n",
    "\n",
    "# List of numbers to use\n",
    "numbers = [1, 2, 3, 4, 5]\n",
    "\n",
    "# Creating threads\n",
    "thread1 = threading.Thread(target=print_squares, args=(numbers,))\n",
    "thread2 = threading.Thread(target=print_cubes, args=(numbers,))\n",
    "\n",
    "# Starting threads\n",
    "thread1.start()\n",
    "thread2.start()\n",
    "\n",
    "# Waiting for threads to complete\n",
    "thread1.join()\n",
    "thread2.join()\n",
    "\n",
    "print(\"Both threads have finished execution.\")'''\n"
   ]
  },
  {
   "cell_type": "code",
   "execution_count": 6,
   "id": "39c49738",
   "metadata": {},
   "outputs": [
    {
     "data": {
      "text/plain": [
       "'Advantages of multithreading.\\nImproved Performance and Responsiveness:\\nResource Sharing:\\n\\nDisadvantages of multithreading.\\nComplexity and Debugging:\\nOverhead:'"
      ]
     },
     "execution_count": 6,
     "metadata": {},
     "output_type": "execute_result"
    }
   ],
   "source": [
    "# Question No 5\n",
    "'''Advantages of multithreading.\n",
    "Improved Performance and Responsiveness:\n",
    "Resource Sharing:\n",
    "\n",
    "Disadvantages of multithreading.\n",
    "Complexity and Debugging:\n",
    "Overhead:'''"
   ]
  },
  {
   "cell_type": "code",
   "execution_count": 7,
   "id": "cfbbfca9",
   "metadata": {},
   "outputs": [
    {
     "data": {
      "text/plain": [
       "'A deadlock occurs when two or more threads are unable to proceed\\nbecause each is waiting for the other to release a resource.\\nThis results in a standstill where none of the involved threads can continue execution.\\n\\nA race condition occurs when the behavior of a program depends on the relative timing of threads executing.\\nIt typically happens when two or more threads access shared data\\nconcurrently and at least one of the threads modifies the data.'"
      ]
     },
     "execution_count": 7,
     "metadata": {},
     "output_type": "execute_result"
    }
   ],
   "source": [
    "# Question No 6\n",
    "'''A deadlock occurs when two or more threads are unable to proceed\n",
    "because each is waiting for the other to release a resource.\n",
    "This results in a standstill where none of the involved threads can continue execution.\n",
    "\n",
    "A race condition occurs when the behavior of a program depends on the relative timing of threads executing.\n",
    "It typically happens when two or more threads access shared data\n",
    "concurrently and at least one of the threads modifies the data.'''"
   ]
  },
  {
   "cell_type": "code",
   "execution_count": null,
   "id": "260851d3",
   "metadata": {},
   "outputs": [],
   "source": []
  }
 ],
 "metadata": {
  "kernelspec": {
   "display_name": "Python 3 (ipykernel)",
   "language": "python",
   "name": "python3"
  },
  "language_info": {
   "codemirror_mode": {
    "name": "ipython",
    "version": 3
   },
   "file_extension": ".py",
   "mimetype": "text/x-python",
   "name": "python",
   "nbconvert_exporter": "python",
   "pygments_lexer": "ipython3",
   "version": "3.11.5"
  }
 },
 "nbformat": 4,
 "nbformat_minor": 5
}
